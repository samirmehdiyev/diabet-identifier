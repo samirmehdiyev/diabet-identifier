{
 "cells": [
  {
   "cell_type": "code",
   "execution_count": null,
   "metadata": {},
   "outputs": [],
   "source": [
    "import pandas as pd\n",
    "import numpy as np\n",
    "\n",
    "from sklearn.model_selection import train_test_split\n",
    "from sklearn.linear_model import LinearRegression\n",
    "from sklearn.preprocessing import StandardScaler\n",
    "from sklearn.neighbors import KNeighborsClassifier\n",
    "from sklearn.metrics import confusion_matrix\n",
    "from sklearn.metrics import f1_score\n",
    "from sklearn.metrics import accuracy_score\n"
   ]
  },
  {
   "cell_type": "code",
   "execution_count": null,
   "metadata": {},
   "outputs": [],
   "source": [
    "data = pd.read_csv('diabetes.csv')\n",
    "data.head()\n",
    "\n",
    "headers = np.array(data.columns)\n",
    "print(headers)\n"
   ]
  },
  {
   "cell_type": "code",
   "execution_count": null,
   "metadata": {},
   "outputs": [],
   "source": [
    "# checking null&na datas\n",
    "print(data.isnull().sum()) # missing data\n",
    "print(data.isna().sum()) # Nan data"
   ]
  },
  {
   "cell_type": "code",
   "execution_count": null,
   "metadata": {},
   "outputs": [],
   "source": [
    "# zeroes not accepted\n",
    "zero_not_accepted = ['Glucose',\t'BloodPressure',\n",
    "                     'SkinThickness', 'BMI', 'Insulin']\n",
    "\n",
    "for column in zero_not_accepted:\n",
    "    data[column] = data[column].replace(0, np.NaN)\n",
    "    mean = int(data[column].mean(skipna=True))\n",
    "    data[column] = data[column].replace(np.NaN, mean)\n"
   ]
  },
  {
   "cell_type": "code",
   "execution_count": null,
   "metadata": {},
   "outputs": [],
   "source": [
    "features = headers[:-1]\n",
    "target = headers[-1]\n",
    "\n",
    "X = data[features]\n",
    "Y = data[target]\n",
    "\n",
    "X_train, X_test, Y_train, Y_test = train_test_split(\n",
    "    X, Y, test_size=0.2, random_state=42)\n"
   ]
  },
  {
   "cell_type": "code",
   "execution_count": null,
   "metadata": {},
   "outputs": [],
   "source": [
    "# feature scaling\n",
    "sc = StandardScaler()\n",
    "X_train = sc.fit_transform(X_train)\n",
    "X_test = sc.transform(X_test)"
   ]
  },
  {
   "cell_type": "code",
   "execution_count": null,
   "metadata": {},
   "outputs": [],
   "source": [
    "# knn model building\n",
    "model = KNeighborsClassifier(n_neighbors=11, p=2, metric='euclidean')\n",
    "model.fit(X_train,Y_train)"
   ]
  },
  {
   "cell_type": "code",
   "execution_count": null,
   "metadata": {},
   "outputs": [],
   "source": [
    "# linear_regression model\n",
    "linear_model = LinearRegression()\n",
    "linear_model.fit(X_train,Y_train)\n",
    "Y_pred_lin = linear_model.predict(X_test)"
   ]
  },
  {
   "cell_type": "code",
   "execution_count": null,
   "metadata": {},
   "outputs": [],
   "source": [
    "# predict test results\n",
    "Y_pred = model.predict(X_test)\n"
   ]
  },
  {
   "cell_type": "code",
   "execution_count": null,
   "metadata": {},
   "outputs": [],
   "source": [
    "# model evaluating\n",
    "cm = confusion_matrix(Y_test,Y_pred)\n",
    "print('confusion_matrix: ',cm)\n",
    "\n",
    "print('f1_score: ', f1_score(Y_test,Y_pred))\n",
    "\n",
    "# accuracy = (cm[0, 0]+cm[1, 1])/np.sum(cm)\n",
    "print('knn accuracy_score: ', accuracy_score(Y_test,Y_pred))\n",
    "print('linear accuracy: ', linear_model.score(X_test,Y_test))"
   ]
  }
 ],
 "metadata": {
  "kernelspec": {
   "display_name": "Python 3.9.13 ('base')",
   "language": "python",
   "name": "python3"
  },
  "language_info": {
   "codemirror_mode": {
    "name": "ipython",
    "version": 3
   },
   "file_extension": ".py",
   "mimetype": "text/x-python",
   "name": "python",
   "nbconvert_exporter": "python",
   "pygments_lexer": "ipython3",
   "version": "3.9.13"
  },
  "orig_nbformat": 4,
  "vscode": {
   "interpreter": {
    "hash": "5886b90e09404f2533bbdcb82b8fb009d2967ae9d1598bd082dbb8214158f91d"
   }
  }
 },
 "nbformat": 4,
 "nbformat_minor": 2
}
